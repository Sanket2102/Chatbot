{
 "cells": [
  {
   "cell_type": "code",
   "execution_count": 1,
   "metadata": {},
   "outputs": [],
   "source": [
    "import pandas as pd"
   ]
  },
  {
   "cell_type": "code",
   "execution_count": 2,
   "metadata": {},
   "outputs": [
    {
     "data": {
      "text/html": [
       "<div>\n",
       "<style scoped>\n",
       "    .dataframe tbody tr th:only-of-type {\n",
       "        vertical-align: middle;\n",
       "    }\n",
       "\n",
       "    .dataframe tbody tr th {\n",
       "        vertical-align: top;\n",
       "    }\n",
       "\n",
       "    .dataframe thead th {\n",
       "        text-align: right;\n",
       "    }\n",
       "</style>\n",
       "<table border=\"1\" class=\"dataframe\">\n",
       "  <thead>\n",
       "    <tr style=\"text-align: right;\">\n",
       "      <th></th>\n",
       "      <th>flags</th>\n",
       "      <th>utterance</th>\n",
       "      <th>category</th>\n",
       "      <th>intent</th>\n",
       "    </tr>\n",
       "  </thead>\n",
       "  <tbody>\n",
       "    <tr>\n",
       "      <th>0</th>\n",
       "      <td>BM</td>\n",
       "      <td>I have problems with canceling an order</td>\n",
       "      <td>ORDER</td>\n",
       "      <td>cancel_order</td>\n",
       "    </tr>\n",
       "    <tr>\n",
       "      <th>1</th>\n",
       "      <td>BIM</td>\n",
       "      <td>how can I find information about canceling ord...</td>\n",
       "      <td>ORDER</td>\n",
       "      <td>cancel_order</td>\n",
       "    </tr>\n",
       "    <tr>\n",
       "      <th>2</th>\n",
       "      <td>B</td>\n",
       "      <td>I need help with canceling the last order</td>\n",
       "      <td>ORDER</td>\n",
       "      <td>cancel_order</td>\n",
       "    </tr>\n",
       "    <tr>\n",
       "      <th>3</th>\n",
       "      <td>BIP</td>\n",
       "      <td>could you help me cancelling the last order I ...</td>\n",
       "      <td>ORDER</td>\n",
       "      <td>cancel_order</td>\n",
       "    </tr>\n",
       "    <tr>\n",
       "      <th>4</th>\n",
       "      <td>B</td>\n",
       "      <td>problem with cancelling an order I made</td>\n",
       "      <td>ORDER</td>\n",
       "      <td>cancel_order</td>\n",
       "    </tr>\n",
       "  </tbody>\n",
       "</table>\n",
       "</div>"
      ],
      "text/plain": [
       "  flags                                          utterance category  \\\n",
       "0    BM            I have problems with canceling an order    ORDER   \n",
       "1   BIM  how can I find information about canceling ord...    ORDER   \n",
       "2     B          I need help with canceling the last order    ORDER   \n",
       "3   BIP  could you help me cancelling the last order I ...    ORDER   \n",
       "4     B            problem with cancelling an order I made    ORDER   \n",
       "\n",
       "         intent  \n",
       "0  cancel_order  \n",
       "1  cancel_order  \n",
       "2  cancel_order  \n",
       "3  cancel_order  \n",
       "4  cancel_order  "
      ]
     },
     "execution_count": 2,
     "metadata": {},
     "output_type": "execute_result"
    }
   ],
   "source": [
    "data = pd.read_csv(\"Bitext_Sample_Customer_Service_Training_Dataset.csv\")\n",
    "data.head()"
   ]
  },
  {
   "cell_type": "code",
   "execution_count": 3,
   "metadata": {},
   "outputs": [
    {
     "name": "stdout",
     "output_type": "stream",
     "text": [
      "(8175, 4)\n"
     ]
    },
    {
     "data": {
      "text/plain": [
       "intent                    category        \n",
       "get_invoice               INVOICE             324\n",
       "check_invoice             INVOICE             324\n",
       "payment_issue             PAYMENT             323\n",
       "review                    FEEDBACK            315\n",
       "track_refund              REFUND              308\n",
       "set_up_shipping_address   SHIPPING_ADDRESS    307\n",
       "place_order               ORDER               306\n",
       "track_order               ORDER               305\n",
       "cancel_order              ORDER               305\n",
       "change_order              ORDER               304\n",
       "delivery_options          DELIVERY            302\n",
       "check_refund_policy       REFUND              302\n",
       "delivery_period           DELIVERY            301\n",
       "contact_customer_service  CONTACT             299\n",
       "create_account            ACCOUNT             298\n",
       "check_cancellation_fee    CANCELLATION_FEE    298\n",
       "recover_password          ACCOUNT             298\n",
       "complaint                 FEEDBACK            298\n",
       "delete_account            ACCOUNT             298\n",
       "check_payment_methods     PAYMENT             297\n",
       "change_shipping_address   SHIPPING_ADDRESS    297\n",
       "contact_human_agent       CONTACT             297\n",
       "registration_problems     ACCOUNT             296\n",
       "newsletter_subscription   NEWSLETTER          295\n",
       "get_refund                REFUND              294\n",
       "edit_account              ACCOUNT             294\n",
       "switch_account            ACCOUNT             290\n",
       "Name: count, dtype: int64"
      ]
     },
     "execution_count": 3,
     "metadata": {},
     "output_type": "execute_result"
    }
   ],
   "source": [
    "print(data.shape)\n",
    "data[[\"intent\",\"category\"]].value_counts()"
   ]
  },
  {
   "cell_type": "code",
   "execution_count": 4,
   "metadata": {},
   "outputs": [
    {
     "data": {
      "text/html": [
       "<div>\n",
       "<style scoped>\n",
       "    .dataframe tbody tr th:only-of-type {\n",
       "        vertical-align: middle;\n",
       "    }\n",
       "\n",
       "    .dataframe tbody tr th {\n",
       "        vertical-align: top;\n",
       "    }\n",
       "\n",
       "    .dataframe thead th {\n",
       "        text-align: right;\n",
       "    }\n",
       "</style>\n",
       "<table border=\"1\" class=\"dataframe\">\n",
       "  <thead>\n",
       "    <tr style=\"text-align: right;\">\n",
       "      <th></th>\n",
       "      <th>flags</th>\n",
       "      <th>utterance</th>\n",
       "      <th>category</th>\n",
       "      <th>intent</th>\n",
       "    </tr>\n",
       "  </thead>\n",
       "  <tbody>\n",
       "    <tr>\n",
       "      <th>1825</th>\n",
       "      <td>B</td>\n",
       "      <td>checking your refund policy</td>\n",
       "      <td>REFUND</td>\n",
       "      <td>check_refund_policy</td>\n",
       "    </tr>\n",
       "    <tr>\n",
       "      <th>1826</th>\n",
       "      <td>B</td>\n",
       "      <td>I don't know how I can check your money back p...</td>\n",
       "      <td>REFUND</td>\n",
       "      <td>check_refund_policy</td>\n",
       "    </tr>\n",
       "    <tr>\n",
       "      <th>1827</th>\n",
       "      <td>B</td>\n",
       "      <td>I want help to check in what cases can I ask f...</td>\n",
       "      <td>REFUND</td>\n",
       "      <td>check_refund_policy</td>\n",
       "    </tr>\n",
       "    <tr>\n",
       "      <th>1828</th>\n",
       "      <td>BE</td>\n",
       "      <td>I do not know what I have to do to check your ...</td>\n",
       "      <td>REFUND</td>\n",
       "      <td>check_refund_policy</td>\n",
       "    </tr>\n",
       "    <tr>\n",
       "      <th>1829</th>\n",
       "      <td>BIP</td>\n",
       "      <td>could you help me checking your refund policy?</td>\n",
       "      <td>REFUND</td>\n",
       "      <td>check_refund_policy</td>\n",
       "    </tr>\n",
       "    <tr>\n",
       "      <th>...</th>\n",
       "      <td>...</td>\n",
       "      <td>...</td>\n",
       "      <td>...</td>\n",
       "      <td>...</td>\n",
       "    </tr>\n",
       "    <tr>\n",
       "      <th>2122</th>\n",
       "      <td>B</td>\n",
       "      <td>I need to check your refund policy</td>\n",
       "      <td>REFUND</td>\n",
       "      <td>check_refund_policy</td>\n",
       "    </tr>\n",
       "    <tr>\n",
       "      <th>2123</th>\n",
       "      <td>BI</td>\n",
       "      <td>can you show me in what cases can I ask to be ...</td>\n",
       "      <td>REFUND</td>\n",
       "      <td>check_refund_policy</td>\n",
       "    </tr>\n",
       "    <tr>\n",
       "      <th>2124</th>\n",
       "      <td>B</td>\n",
       "      <td>check under what circumstances can I ask for r...</td>\n",
       "      <td>REFUND</td>\n",
       "      <td>check_refund_policy</td>\n",
       "    </tr>\n",
       "    <tr>\n",
       "      <th>2125</th>\n",
       "      <td>B</td>\n",
       "      <td>I want help checking in what cases can I ask t...</td>\n",
       "      <td>REFUND</td>\n",
       "      <td>check_refund_policy</td>\n",
       "    </tr>\n",
       "    <tr>\n",
       "      <th>2126</th>\n",
       "      <td>BIP</td>\n",
       "      <td>could I check how long refunds usually take?</td>\n",
       "      <td>REFUND</td>\n",
       "      <td>check_refund_policy</td>\n",
       "    </tr>\n",
       "  </tbody>\n",
       "</table>\n",
       "<p>302 rows × 4 columns</p>\n",
       "</div>"
      ],
      "text/plain": [
       "     flags                                          utterance category  \\\n",
       "1825     B                        checking your refund policy   REFUND   \n",
       "1826     B  I don't know how I can check your money back p...   REFUND   \n",
       "1827     B  I want help to check in what cases can I ask f...   REFUND   \n",
       "1828    BE  I do not know what I have to do to check your ...   REFUND   \n",
       "1829   BIP     could you help me checking your refund policy?   REFUND   \n",
       "...    ...                                                ...      ...   \n",
       "2122     B                 I need to check your refund policy   REFUND   \n",
       "2123    BI  can you show me in what cases can I ask to be ...   REFUND   \n",
       "2124     B  check under what circumstances can I ask for r...   REFUND   \n",
       "2125     B  I want help checking in what cases can I ask t...   REFUND   \n",
       "2126   BIP       could I check how long refunds usually take?   REFUND   \n",
       "\n",
       "                   intent  \n",
       "1825  check_refund_policy  \n",
       "1826  check_refund_policy  \n",
       "1827  check_refund_policy  \n",
       "1828  check_refund_policy  \n",
       "1829  check_refund_policy  \n",
       "...                   ...  \n",
       "2122  check_refund_policy  \n",
       "2123  check_refund_policy  \n",
       "2124  check_refund_policy  \n",
       "2125  check_refund_policy  \n",
       "2126  check_refund_policy  \n",
       "\n",
       "[302 rows x 4 columns]"
      ]
     },
     "execution_count": 4,
     "metadata": {},
     "output_type": "execute_result"
    }
   ],
   "source": [
    "data[data[\"intent\"] == \"check_refund_policy\"]"
   ]
  },
  {
   "cell_type": "code",
   "execution_count": 6,
   "metadata": {},
   "outputs": [
    {
     "data": {
      "text/plain": [
       "array(['cancel_order', 'change_order', 'change_shipping_address',\n",
       "       'check_cancellation_fee', 'check_invoice', 'check_payment_methods',\n",
       "       'check_refund_policy', 'complaint', 'contact_customer_service',\n",
       "       'contact_human_agent', 'create_account', 'delete_account',\n",
       "       'delivery_options', 'delivery_period', 'edit_account',\n",
       "       'get_invoice', 'get_refund', 'newsletter_subscription',\n",
       "       'payment_issue', 'place_order', 'recover_password',\n",
       "       'registration_problems', 'review', 'set_up_shipping_address',\n",
       "       'switch_account', 'track_order', 'track_refund'], dtype=object)"
      ]
     },
     "execution_count": 6,
     "metadata": {},
     "output_type": "execute_result"
    }
   ],
   "source": [
    "data[\"intent\"].unique()"
   ]
  },
  {
   "cell_type": "code",
   "execution_count": null,
   "metadata": {},
   "outputs": [],
   "source": []
  }
 ],
 "metadata": {
  "kernelspec": {
   "display_name": "Python 3",
   "language": "python",
   "name": "python3"
  },
  "language_info": {
   "codemirror_mode": {
    "name": "ipython",
    "version": 3
   },
   "file_extension": ".py",
   "mimetype": "text/x-python",
   "name": "python",
   "nbconvert_exporter": "python",
   "pygments_lexer": "ipython3",
   "version": "3.12.4"
  }
 },
 "nbformat": 4,
 "nbformat_minor": 2
}
