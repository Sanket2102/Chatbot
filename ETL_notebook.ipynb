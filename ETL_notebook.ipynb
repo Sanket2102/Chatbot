{
 "cells": [
  {
   "cell_type": "code",
   "execution_count": 1,
   "metadata": {},
   "outputs": [],
   "source": [
    "import pandas as pd"
   ]
  },
  {
   "cell_type": "code",
   "execution_count": 3,
   "metadata": {},
   "outputs": [
    {
     "data": {
      "text/html": [
       "<div>\n",
       "<style scoped>\n",
       "    .dataframe tbody tr th:only-of-type {\n",
       "        vertical-align: middle;\n",
       "    }\n",
       "\n",
       "    .dataframe tbody tr th {\n",
       "        vertical-align: top;\n",
       "    }\n",
       "\n",
       "    .dataframe thead th {\n",
       "        text-align: right;\n",
       "    }\n",
       "</style>\n",
       "<table border=\"1\" class=\"dataframe\">\n",
       "  <thead>\n",
       "    <tr style=\"text-align: right;\">\n",
       "      <th></th>\n",
       "      <th>flags</th>\n",
       "      <th>utterance</th>\n",
       "      <th>category</th>\n",
       "      <th>intent</th>\n",
       "    </tr>\n",
       "  </thead>\n",
       "  <tbody>\n",
       "    <tr>\n",
       "      <th>0</th>\n",
       "      <td>BM</td>\n",
       "      <td>I have problems with canceling an order</td>\n",
       "      <td>ORDER</td>\n",
       "      <td>cancel_order</td>\n",
       "    </tr>\n",
       "    <tr>\n",
       "      <th>1</th>\n",
       "      <td>BIM</td>\n",
       "      <td>how can I find information about canceling ord...</td>\n",
       "      <td>ORDER</td>\n",
       "      <td>cancel_order</td>\n",
       "    </tr>\n",
       "    <tr>\n",
       "      <th>2</th>\n",
       "      <td>B</td>\n",
       "      <td>I need help with canceling the last order</td>\n",
       "      <td>ORDER</td>\n",
       "      <td>cancel_order</td>\n",
       "    </tr>\n",
       "    <tr>\n",
       "      <th>3</th>\n",
       "      <td>BIP</td>\n",
       "      <td>could you help me cancelling the last order I ...</td>\n",
       "      <td>ORDER</td>\n",
       "      <td>cancel_order</td>\n",
       "    </tr>\n",
       "    <tr>\n",
       "      <th>4</th>\n",
       "      <td>B</td>\n",
       "      <td>problem with cancelling an order I made</td>\n",
       "      <td>ORDER</td>\n",
       "      <td>cancel_order</td>\n",
       "    </tr>\n",
       "  </tbody>\n",
       "</table>\n",
       "</div>"
      ],
      "text/plain": [
       "  flags                                          utterance category  \\\n",
       "0    BM            I have problems with canceling an order    ORDER   \n",
       "1   BIM  how can I find information about canceling ord...    ORDER   \n",
       "2     B          I need help with canceling the last order    ORDER   \n",
       "3   BIP  could you help me cancelling the last order I ...    ORDER   \n",
       "4     B            problem with cancelling an order I made    ORDER   \n",
       "\n",
       "         intent  \n",
       "0  cancel_order  \n",
       "1  cancel_order  \n",
       "2  cancel_order  \n",
       "3  cancel_order  \n",
       "4  cancel_order  "
      ]
     },
     "execution_count": 3,
     "metadata": {},
     "output_type": "execute_result"
    }
   ],
   "source": [
    "data = pd.read_csv(\"Bitext_Sample_Customer_Service_Training_Dataset.csv\")\n",
    "data.head()"
   ]
  },
  {
   "cell_type": "code",
   "execution_count": 5,
   "metadata": {},
   "outputs": [
    {
     "name": "stdout",
     "output_type": "stream",
     "text": [
      "(8175, 4)\n"
     ]
    },
    {
     "data": {
      "text/plain": [
       "intent                    category        \n",
       "get_invoice               INVOICE             324\n",
       "check_invoice             INVOICE             324\n",
       "payment_issue             PAYMENT             323\n",
       "review                    FEEDBACK            315\n",
       "track_refund              REFUND              308\n",
       "set_up_shipping_address   SHIPPING_ADDRESS    307\n",
       "place_order               ORDER               306\n",
       "track_order               ORDER               305\n",
       "cancel_order              ORDER               305\n",
       "change_order              ORDER               304\n",
       "delivery_options          DELIVERY            302\n",
       "check_refund_policy       REFUND              302\n",
       "delivery_period           DELIVERY            301\n",
       "contact_customer_service  CONTACT             299\n",
       "create_account            ACCOUNT             298\n",
       "check_cancellation_fee    CANCELLATION_FEE    298\n",
       "recover_password          ACCOUNT             298\n",
       "complaint                 FEEDBACK            298\n",
       "delete_account            ACCOUNT             298\n",
       "check_payment_methods     PAYMENT             297\n",
       "change_shipping_address   SHIPPING_ADDRESS    297\n",
       "contact_human_agent       CONTACT             297\n",
       "registration_problems     ACCOUNT             296\n",
       "newsletter_subscription   NEWSLETTER          295\n",
       "get_refund                REFUND              294\n",
       "edit_account              ACCOUNT             294\n",
       "switch_account            ACCOUNT             290\n",
       "Name: count, dtype: int64"
      ]
     },
     "execution_count": 5,
     "metadata": {},
     "output_type": "execute_result"
    }
   ],
   "source": [
    "print(data.shape)\n",
    "data[[\"intent\",\"category\"]].value_counts()"
   ]
  },
  {
   "cell_type": "code",
   "execution_count": null,
   "metadata": {},
   "outputs": [],
   "source": []
  }
 ],
 "metadata": {
  "kernelspec": {
   "display_name": "Python 3",
   "language": "python",
   "name": "python3"
  },
  "language_info": {
   "codemirror_mode": {
    "name": "ipython",
    "version": 3
   },
   "file_extension": ".py",
   "mimetype": "text/x-python",
   "name": "python",
   "nbconvert_exporter": "python",
   "pygments_lexer": "ipython3",
   "version": "3.12.4"
  }
 },
 "nbformat": 4,
 "nbformat_minor": 2
}
